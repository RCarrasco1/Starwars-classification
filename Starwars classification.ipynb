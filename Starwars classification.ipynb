{
 "cells": [
  {
   "cell_type": "markdown",
   "metadata": {},
   "source": [
    "# This is a classification example using a dataset from star wars found at:\n",
    "https://github.com/fgeorges/star-wars-dataset"
   ]
  },
  {
   "cell_type": "markdown",
   "metadata": {},
   "source": [
    "First import the required modules\n",
    "The dataset is found in several json files that need to be parsed and concatenated"
   ]
  },
  {
   "cell_type": "code",
   "execution_count": 1,
   "metadata": {},
   "outputs": [],
   "source": [
    "import os\n",
    "import glob\n",
    "import json \n",
    "import pandas as pd \n",
    "from pandas.io.json import json_normalize #package for flattening json in pandas df"
   ]
  },
  {
   "cell_type": "code",
   "execution_count": 4,
   "metadata": {},
   "outputs": [],
   "source": [
    "#People contains the files with the information of the characters of the mocvies\n",
    "file_list = glob.glob(os.path.join(os.getcwd(), r\"C:\\Training\\Python\\ML\\SW\\star-wars-dataset\\json\\people\", \"*.json\"))\n"
   ]
  },
  {
   "cell_type": "code",
   "execution_count": 5,
   "metadata": {},
   "outputs": [],
   "source": [
    "#This code forms a Dataframe with the charceters information\n",
    "sw=pd.DataFrame()\n",
    "for file_path in file_list:\n",
    "    with open(file_path,encoding=\"utf8\") as f:\n",
    "        d = json.load(f)\n",
    "    sw= sw.append(json_normalize(d['people']))"
   ]
  },
  {
   "cell_type": "code",
   "execution_count": 6,
   "metadata": {},
   "outputs": [
    {
     "data": {
      "text/html": [
       "<div>\n",
       "<style scoped>\n",
       "    .dataframe tbody tr th:only-of-type {\n",
       "        vertical-align: middle;\n",
       "    }\n",
       "\n",
       "    .dataframe tbody tr th {\n",
       "        vertical-align: top;\n",
       "    }\n",
       "\n",
       "    .dataframe thead th {\n",
       "        text-align: right;\n",
       "    }\n",
       "</style>\n",
       "<table border=\"1\" class=\"dataframe\">\n",
       "  <thead>\n",
       "    <tr style=\"text-align: right;\">\n",
       "      <th></th>\n",
       "      <th>birth_year</th>\n",
       "      <th>created</th>\n",
       "      <th>desc</th>\n",
       "      <th>edited</th>\n",
       "      <th>eye_color</th>\n",
       "      <th>films</th>\n",
       "      <th>gender</th>\n",
       "      <th>hair_color</th>\n",
       "      <th>height</th>\n",
       "      <th>homeworld</th>\n",
       "      <th>mass</th>\n",
       "      <th>name</th>\n",
       "      <th>skin_color</th>\n",
       "      <th>species</th>\n",
       "      <th>starships</th>\n",
       "      <th>url</th>\n",
       "      <th>vehicles</th>\n",
       "    </tr>\n",
       "  </thead>\n",
       "  <tbody>\n",
       "    <tr>\n",
       "      <th>0</th>\n",
       "      <td>19BBY</td>\n",
       "      <td>2014-12-09T13:50:51.644000Z</td>\n",
       "      <td>[Luke Skywalker is a fictional character and t...</td>\n",
       "      <td>2014-12-20T21:17:56.891000Z</td>\n",
       "      <td>blue</td>\n",
       "      <td>[http://swapi.co/api/films/6/, http://swapi.co...</td>\n",
       "      <td>male</td>\n",
       "      <td>blond</td>\n",
       "      <td>172</td>\n",
       "      <td>http://swapi.co/api/planets/1/</td>\n",
       "      <td>77</td>\n",
       "      <td>Luke Skywalker</td>\n",
       "      <td>fair</td>\n",
       "      <td>[http://swapi.co/api/species/1/]</td>\n",
       "      <td>[http://swapi.co/api/starships/12/, http://swa...</td>\n",
       "      <td>http://swapi.co/api/people/1/</td>\n",
       "      <td>[http://swapi.co/api/vehicles/14/, http://swap...</td>\n",
       "    </tr>\n",
       "    <tr>\n",
       "      <th>0</th>\n",
       "      <td>57BBY</td>\n",
       "      <td>2014-12-10T16:16:29.192000Z</td>\n",
       "      <td>[Obi-Wan \"Ben\" Kenobi is a fictional character...</td>\n",
       "      <td>2014-12-20T21:17:50.325000Z</td>\n",
       "      <td>blue-gray</td>\n",
       "      <td>[http://swapi.co/api/films/5/, http://swapi.co...</td>\n",
       "      <td>male</td>\n",
       "      <td>auburn, white</td>\n",
       "      <td>182</td>\n",
       "      <td>http://swapi.co/api/planets/20/</td>\n",
       "      <td>77</td>\n",
       "      <td>Obi-Wan Kenobi</td>\n",
       "      <td>fair</td>\n",
       "      <td>[http://swapi.co/api/species/1/]</td>\n",
       "      <td>[http://swapi.co/api/starships/48/, http://swa...</td>\n",
       "      <td>http://swapi.co/api/people/10/</td>\n",
       "      <td>[http://swapi.co/api/vehicles/38/]</td>\n",
       "    </tr>\n",
       "    <tr>\n",
       "      <th>0</th>\n",
       "      <td>41.9BBY</td>\n",
       "      <td>2014-12-10T16:20:44.310000Z</td>\n",
       "      <td>[Darth Vader, also known by his birth name Ana...</td>\n",
       "      <td>2014-12-20T21:17:50.327000Z</td>\n",
       "      <td>blue</td>\n",
       "      <td>[http://swapi.co/api/films/5/, http://swapi.co...</td>\n",
       "      <td>male</td>\n",
       "      <td>blond</td>\n",
       "      <td>188</td>\n",
       "      <td>http://swapi.co/api/planets/1/</td>\n",
       "      <td>84</td>\n",
       "      <td>Anakin Skywalker</td>\n",
       "      <td>fair</td>\n",
       "      <td>[http://swapi.co/api/species/1/]</td>\n",
       "      <td>[http://swapi.co/api/starships/59/, http://swa...</td>\n",
       "      <td>http://swapi.co/api/people/11/</td>\n",
       "      <td>[http://swapi.co/api/vehicles/44/, http://swap...</td>\n",
       "    </tr>\n",
       "    <tr>\n",
       "      <th>0</th>\n",
       "      <td>64BBY</td>\n",
       "      <td>2014-12-10T16:26:56.138000Z</td>\n",
       "      <td>[Governor Wilhuff \"Grand Moff\" Tarkin, is a fi...</td>\n",
       "      <td>2014-12-20T21:17:50.330000Z</td>\n",
       "      <td>blue</td>\n",
       "      <td>[http://swapi.co/api/films/1/, http://swapi.co...</td>\n",
       "      <td>male</td>\n",
       "      <td>auburn, grey</td>\n",
       "      <td>180</td>\n",
       "      <td>http://swapi.co/api/planets/21/</td>\n",
       "      <td>NaN</td>\n",
       "      <td>Wilhuff Tarkin</td>\n",
       "      <td>fair</td>\n",
       "      <td>[http://swapi.co/api/species/1/]</td>\n",
       "      <td>[]</td>\n",
       "      <td>http://swapi.co/api/people/12/</td>\n",
       "      <td>[]</td>\n",
       "    </tr>\n",
       "    <tr>\n",
       "      <th>0</th>\n",
       "      <td>200BBY</td>\n",
       "      <td>2014-12-10T16:42:45.066000Z</td>\n",
       "      <td>[Chewbacca (/tʃuːˈbɑːkə/), nicknamed \"Chewie\",...</td>\n",
       "      <td>2014-12-20T21:17:50.332000Z</td>\n",
       "      <td>blue</td>\n",
       "      <td>[http://swapi.co/api/films/6/, http://swapi.co...</td>\n",
       "      <td>male</td>\n",
       "      <td>brown</td>\n",
       "      <td>228</td>\n",
       "      <td>http://swapi.co/api/planets/14/</td>\n",
       "      <td>112</td>\n",
       "      <td>Chewbacca</td>\n",
       "      <td>NaN</td>\n",
       "      <td>[http://swapi.co/api/species/3/]</td>\n",
       "      <td>[http://swapi.co/api/starships/10/, http://swa...</td>\n",
       "      <td>http://swapi.co/api/people/13/</td>\n",
       "      <td>[http://swapi.co/api/vehicles/19/]</td>\n",
       "    </tr>\n",
       "  </tbody>\n",
       "</table>\n",
       "</div>"
      ],
      "text/plain": [
       "  birth_year                      created  \\\n",
       "0      19BBY  2014-12-09T13:50:51.644000Z   \n",
       "0      57BBY  2014-12-10T16:16:29.192000Z   \n",
       "0    41.9BBY  2014-12-10T16:20:44.310000Z   \n",
       "0      64BBY  2014-12-10T16:26:56.138000Z   \n",
       "0     200BBY  2014-12-10T16:42:45.066000Z   \n",
       "\n",
       "                                                desc  \\\n",
       "0  [Luke Skywalker is a fictional character and t...   \n",
       "0  [Obi-Wan \"Ben\" Kenobi is a fictional character...   \n",
       "0  [Darth Vader, also known by his birth name Ana...   \n",
       "0  [Governor Wilhuff \"Grand Moff\" Tarkin, is a fi...   \n",
       "0  [Chewbacca (/tʃuːˈbɑːkə/), nicknamed \"Chewie\",...   \n",
       "\n",
       "                        edited  eye_color  \\\n",
       "0  2014-12-20T21:17:56.891000Z       blue   \n",
       "0  2014-12-20T21:17:50.325000Z  blue-gray   \n",
       "0  2014-12-20T21:17:50.327000Z       blue   \n",
       "0  2014-12-20T21:17:50.330000Z       blue   \n",
       "0  2014-12-20T21:17:50.332000Z       blue   \n",
       "\n",
       "                                               films gender     hair_color  \\\n",
       "0  [http://swapi.co/api/films/6/, http://swapi.co...   male          blond   \n",
       "0  [http://swapi.co/api/films/5/, http://swapi.co...   male  auburn, white   \n",
       "0  [http://swapi.co/api/films/5/, http://swapi.co...   male          blond   \n",
       "0  [http://swapi.co/api/films/1/, http://swapi.co...   male   auburn, grey   \n",
       "0  [http://swapi.co/api/films/6/, http://swapi.co...   male          brown   \n",
       "\n",
       "  height                        homeworld mass              name skin_color  \\\n",
       "0    172   http://swapi.co/api/planets/1/   77    Luke Skywalker       fair   \n",
       "0    182  http://swapi.co/api/planets/20/   77    Obi-Wan Kenobi       fair   \n",
       "0    188   http://swapi.co/api/planets/1/   84  Anakin Skywalker       fair   \n",
       "0    180  http://swapi.co/api/planets/21/  NaN    Wilhuff Tarkin       fair   \n",
       "0    228  http://swapi.co/api/planets/14/  112         Chewbacca        NaN   \n",
       "\n",
       "                            species  \\\n",
       "0  [http://swapi.co/api/species/1/]   \n",
       "0  [http://swapi.co/api/species/1/]   \n",
       "0  [http://swapi.co/api/species/1/]   \n",
       "0  [http://swapi.co/api/species/1/]   \n",
       "0  [http://swapi.co/api/species/3/]   \n",
       "\n",
       "                                           starships  \\\n",
       "0  [http://swapi.co/api/starships/12/, http://swa...   \n",
       "0  [http://swapi.co/api/starships/48/, http://swa...   \n",
       "0  [http://swapi.co/api/starships/59/, http://swa...   \n",
       "0                                                 []   \n",
       "0  [http://swapi.co/api/starships/10/, http://swa...   \n",
       "\n",
       "                              url  \\\n",
       "0   http://swapi.co/api/people/1/   \n",
       "0  http://swapi.co/api/people/10/   \n",
       "0  http://swapi.co/api/people/11/   \n",
       "0  http://swapi.co/api/people/12/   \n",
       "0  http://swapi.co/api/people/13/   \n",
       "\n",
       "                                            vehicles  \n",
       "0  [http://swapi.co/api/vehicles/14/, http://swap...  \n",
       "0                 [http://swapi.co/api/vehicles/38/]  \n",
       "0  [http://swapi.co/api/vehicles/44/, http://swap...  \n",
       "0                                                 []  \n",
       "0                 [http://swapi.co/api/vehicles/19/]  "
      ]
     },
     "execution_count": 6,
     "metadata": {},
     "output_type": "execute_result"
    }
   ],
   "source": [
    "#This shows the first 5 rows of the dataset\n",
    "sw.head()"
   ]
  },
  {
   "cell_type": "markdown",
   "metadata": {},
   "source": [
    "Now is time to merge some data from the species files that correspond to the characters"
   ]
  },
  {
   "cell_type": "code",
   "execution_count": 7,
   "metadata": {},
   "outputs": [],
   "source": [
    "sr=sw['species']\n",
    "sw['speciesr1'] = sr.str.extract(pat = '(\\\\d+)')\n",
    "sw['species']=sw['species'].apply(', '.join)\n",
    "\n",
    "#Species        \n",
    "file_list = glob.glob(os.path.join(os.getcwd(), r\"C:\\Training\\Python\\ML\\SW\\star-wars-dataset\\json\\species\", \"*.json\"))\n",
    "\n",
    "sw_sp=pd.DataFrame()\n",
    "for file_path in file_list:\n",
    "    with open(file_path,encoding=\"utf8\") as f:\n",
    "        d = json.load(f)\n",
    "    sw_sp= sw_sp.append(json_normalize(d['species']))"
   ]
  },
  {
   "cell_type": "code",
   "execution_count": 8,
   "metadata": {},
   "outputs": [
    {
     "data": {
      "text/html": [
       "<div>\n",
       "<style scoped>\n",
       "    .dataframe tbody tr th:only-of-type {\n",
       "        vertical-align: middle;\n",
       "    }\n",
       "\n",
       "    .dataframe tbody tr th {\n",
       "        vertical-align: top;\n",
       "    }\n",
       "\n",
       "    .dataframe thead th {\n",
       "        text-align: right;\n",
       "    }\n",
       "</style>\n",
       "<table border=\"1\" class=\"dataframe\">\n",
       "  <thead>\n",
       "    <tr style=\"text-align: right;\">\n",
       "      <th></th>\n",
       "      <th>average_height</th>\n",
       "      <th>average_lifespan</th>\n",
       "      <th>classification</th>\n",
       "      <th>created</th>\n",
       "      <th>desc</th>\n",
       "      <th>designation</th>\n",
       "      <th>edited</th>\n",
       "      <th>eye_colors</th>\n",
       "      <th>films</th>\n",
       "      <th>hair_colors</th>\n",
       "      <th>homeworld</th>\n",
       "      <th>language</th>\n",
       "      <th>name</th>\n",
       "      <th>people</th>\n",
       "      <th>skin_colors</th>\n",
       "      <th>url</th>\n",
       "    </tr>\n",
       "  </thead>\n",
       "  <tbody>\n",
       "    <tr>\n",
       "      <th>0</th>\n",
       "      <td>180</td>\n",
       "      <td>120</td>\n",
       "      <td>mammal</td>\n",
       "      <td>2014-12-10T13:52:11.567000Z</td>\n",
       "      <td>[Modern humans (Homo sapiens, primarily ssp. H...</td>\n",
       "      <td>sentient</td>\n",
       "      <td>2015-04-17T06:59:55.850671Z</td>\n",
       "      <td>brown, blue, green, hazel, grey, amber</td>\n",
       "      <td>[http://swapi.co/api/films/7/, http://swapi.co...</td>\n",
       "      <td>blonde, brown, black, red</td>\n",
       "      <td>http://swapi.co/api/planets/9/</td>\n",
       "      <td>Galactic Basic</td>\n",
       "      <td>Human</td>\n",
       "      <td>[http://swapi.co/api/people/1/, http://swapi.c...</td>\n",
       "      <td>caucasian, black, asian, hispanic</td>\n",
       "      <td>http://swapi.co/api/species/1/</td>\n",
       "    </tr>\n",
       "    <tr>\n",
       "      <th>0</th>\n",
       "      <td>180</td>\n",
       "      <td>NaN</td>\n",
       "      <td>mammal</td>\n",
       "      <td>2014-12-18T11:26:20.103000Z</td>\n",
       "      <td>NaN</td>\n",
       "      <td>sentient</td>\n",
       "      <td>2014-12-20T21:36:42.157000Z</td>\n",
       "      <td>black</td>\n",
       "      <td>[http://swapi.co/api/films/3/]</td>\n",
       "      <td>none</td>\n",
       "      <td>http://swapi.co/api/planets/33/</td>\n",
       "      <td>Sullutese</td>\n",
       "      <td>Sullustan</td>\n",
       "      <td>[http://swapi.co/api/people/31/]</td>\n",
       "      <td>pale</td>\n",
       "      <td>http://swapi.co/api/species/10/</td>\n",
       "    </tr>\n",
       "    <tr>\n",
       "      <th>0</th>\n",
       "      <td>180</td>\n",
       "      <td>NaN</td>\n",
       "      <td>NaN</td>\n",
       "      <td>2014-12-19T17:07:31.319000Z</td>\n",
       "      <td>NaN</td>\n",
       "      <td>sentient</td>\n",
       "      <td>2014-12-20T21:36:42.160000Z</td>\n",
       "      <td>red, pink</td>\n",
       "      <td>[http://swapi.co/api/films/4/]</td>\n",
       "      <td>none</td>\n",
       "      <td>http://swapi.co/api/planets/18/</td>\n",
       "      <td>Neimoidia</td>\n",
       "      <td>Neimodian</td>\n",
       "      <td>[http://swapi.co/api/people/33/]</td>\n",
       "      <td>grey, green</td>\n",
       "      <td>http://swapi.co/api/species/11/</td>\n",
       "    </tr>\n",
       "    <tr>\n",
       "      <th>0</th>\n",
       "      <td>190</td>\n",
       "      <td>NaN</td>\n",
       "      <td>amphibian</td>\n",
       "      <td>2014-12-19T17:30:37.341000Z</td>\n",
       "      <td>NaN</td>\n",
       "      <td>sentient</td>\n",
       "      <td>2014-12-20T21:36:42.163000Z</td>\n",
       "      <td>orange</td>\n",
       "      <td>[http://swapi.co/api/films/5/, http://swapi.co...</td>\n",
       "      <td>none</td>\n",
       "      <td>http://swapi.co/api/planets/8/</td>\n",
       "      <td>Gungan basic</td>\n",
       "      <td>Gungan</td>\n",
       "      <td>[http://swapi.co/api/people/36/, http://swapi....</td>\n",
       "      <td>brown, green</td>\n",
       "      <td>http://swapi.co/api/species/12/</td>\n",
       "    </tr>\n",
       "    <tr>\n",
       "      <th>0</th>\n",
       "      <td>120</td>\n",
       "      <td>91</td>\n",
       "      <td>mammal</td>\n",
       "      <td>2014-12-19T17:48:56.893000Z</td>\n",
       "      <td>NaN</td>\n",
       "      <td>sentient</td>\n",
       "      <td>2014-12-20T21:36:42.165000Z</td>\n",
       "      <td>yellow</td>\n",
       "      <td>[http://swapi.co/api/films/5/, http://swapi.co...</td>\n",
       "      <td>none</td>\n",
       "      <td>http://swapi.co/api/planets/34/</td>\n",
       "      <td>Toydarian</td>\n",
       "      <td>Toydarian</td>\n",
       "      <td>[http://swapi.co/api/people/40/]</td>\n",
       "      <td>blue, green, grey</td>\n",
       "      <td>http://swapi.co/api/species/13/</td>\n",
       "    </tr>\n",
       "  </tbody>\n",
       "</table>\n",
       "</div>"
      ],
      "text/plain": [
       "  average_height average_lifespan classification                      created  \\\n",
       "0            180              120         mammal  2014-12-10T13:52:11.567000Z   \n",
       "0            180              NaN         mammal  2014-12-18T11:26:20.103000Z   \n",
       "0            180              NaN            NaN  2014-12-19T17:07:31.319000Z   \n",
       "0            190              NaN      amphibian  2014-12-19T17:30:37.341000Z   \n",
       "0            120               91         mammal  2014-12-19T17:48:56.893000Z   \n",
       "\n",
       "                                                desc designation  \\\n",
       "0  [Modern humans (Homo sapiens, primarily ssp. H...    sentient   \n",
       "0                                                NaN    sentient   \n",
       "0                                                NaN    sentient   \n",
       "0                                                NaN    sentient   \n",
       "0                                                NaN    sentient   \n",
       "\n",
       "                        edited                              eye_colors  \\\n",
       "0  2015-04-17T06:59:55.850671Z  brown, blue, green, hazel, grey, amber   \n",
       "0  2014-12-20T21:36:42.157000Z                                   black   \n",
       "0  2014-12-20T21:36:42.160000Z                               red, pink   \n",
       "0  2014-12-20T21:36:42.163000Z                                  orange   \n",
       "0  2014-12-20T21:36:42.165000Z                                  yellow   \n",
       "\n",
       "                                               films  \\\n",
       "0  [http://swapi.co/api/films/7/, http://swapi.co...   \n",
       "0                     [http://swapi.co/api/films/3/]   \n",
       "0                     [http://swapi.co/api/films/4/]   \n",
       "0  [http://swapi.co/api/films/5/, http://swapi.co...   \n",
       "0  [http://swapi.co/api/films/5/, http://swapi.co...   \n",
       "\n",
       "                 hair_colors                        homeworld        language  \\\n",
       "0  blonde, brown, black, red   http://swapi.co/api/planets/9/  Galactic Basic   \n",
       "0                       none  http://swapi.co/api/planets/33/       Sullutese   \n",
       "0                       none  http://swapi.co/api/planets/18/       Neimoidia   \n",
       "0                       none   http://swapi.co/api/planets/8/    Gungan basic   \n",
       "0                       none  http://swapi.co/api/planets/34/       Toydarian   \n",
       "\n",
       "        name                                             people  \\\n",
       "0      Human  [http://swapi.co/api/people/1/, http://swapi.c...   \n",
       "0  Sullustan                   [http://swapi.co/api/people/31/]   \n",
       "0  Neimodian                   [http://swapi.co/api/people/33/]   \n",
       "0     Gungan  [http://swapi.co/api/people/36/, http://swapi....   \n",
       "0  Toydarian                   [http://swapi.co/api/people/40/]   \n",
       "\n",
       "                         skin_colors                              url  \n",
       "0  caucasian, black, asian, hispanic   http://swapi.co/api/species/1/  \n",
       "0                               pale  http://swapi.co/api/species/10/  \n",
       "0                        grey, green  http://swapi.co/api/species/11/  \n",
       "0                       brown, green  http://swapi.co/api/species/12/  \n",
       "0                  blue, green, grey  http://swapi.co/api/species/13/  "
      ]
     },
     "execution_count": 8,
     "metadata": {},
     "output_type": "execute_result"
    }
   ],
   "source": [
    "#lets see the first rows of the species dataframe\n",
    "sw_sp.head()"
   ]
  },
  {
   "cell_type": "markdown",
   "metadata": {},
   "source": [
    "Lets create a reduce dataframe with three columns of the species dataframe, and merge species with people"
   ]
  },
  {
   "cell_type": "code",
   "execution_count": 11,
   "metadata": {},
   "outputs": [],
   "source": [
    "reduced_sp=sw_sp[['url','name','classification']]\n",
    "reduced_sp = reduced_sp.rename(columns={'url': 'species','name':'species_name'})\n",
    "\n",
    "swr1=pd.merge(sw,reduced_sp,how='left',on='species')"
   ]
  },
  {
   "cell_type": "code",
   "execution_count": 12,
   "metadata": {},
   "outputs": [],
   "source": [
    "#Then reduce the drataframe to only the Y=species_name and X's=eye_color,height,mass,skin_color, and classification\n",
    "sw_class=swr1[['species_name','eye_color','height','mass','skin_color','classification']]\n",
    "sw_class['classification'][50]='mammal'\n",
    "sw_class1=sw_class.dropna()"
   ]
  },
  {
   "cell_type": "code",
   "execution_count": 13,
   "metadata": {},
   "outputs": [],
   "source": [
    "#reformat the names in the column to prepare for \"one hot encoding\"\n",
    "sw_class2=sw_class1.replace({'eye_color': {'green, yellow': 'green_yellow', 'blue-gray': 'blue_gray'},\n",
    "                             'skin_color':{'fair, green, yellow': 'fr_gr_yel','white, blue':'wh_bl',\n",
    "                                           'green-tan, brown':'gr_tn_br','brown mottle':'br_mo',\n",
    "                                           'brown, white':'br_wh','grey, blue':'gr_bl','white, orange':'wh_or',\n",
    "                                           'red, blue, white':'r_b_w',\n",
    "                                           'white, red':'wh_r','grey, red':'gr_rd'}})"
   ]
  },
  {
   "cell_type": "markdown",
   "metadata": {},
   "source": [
    "Prepare the columns that need to be scaled and encoded, the factorize the column of the dependent variable."
   ]
  },
  {
   "cell_type": "code",
   "execution_count": 22,
   "metadata": {},
   "outputs": [
    {
     "name": "stdout",
     "output_type": "stream",
     "text": [
      "[[-0.10930426 -0.14304304  0.         ...  0.          0.\n",
      "   0.        ]\n",
      " [ 0.19868012 -0.14304304  0.         ...  0.          0.\n",
      "   0.        ]\n",
      " [ 0.38347075 -0.1041027   0.         ...  0.          0.\n",
      "   0.        ]\n",
      " ...\n",
      " [ 0.38347075 -0.13191723  0.         ...  0.          0.\n",
      "   0.        ]\n",
      " [ 0.93784263 -0.12635432  1.         ...  0.          0.\n",
      "   0.        ]\n",
      " [ 0.22947856 -0.1041027   0.         ...  0.          0.\n",
      "   0.        ]]\n"
     ]
    },
    {
     "name": "stderr",
     "output_type": "stream",
     "text": [
      "C:\\ProgramData\\Anaconda3\\lib\\site-packages\\sklearn\\preprocessing\\data.py:645: DataConversionWarning: Data with input dtype object were all converted to float64 by StandardScaler.\n",
      "  return self.partial_fit(X, y)\n",
      "C:\\ProgramData\\Anaconda3\\lib\\site-packages\\sklearn\\base.py:464: DataConversionWarning: Data with input dtype object were all converted to float64 by StandardScaler.\n",
      "  return self.fit(X, **fit_params).transform(X)\n"
     ]
    }
   ],
   "source": [
    "import numpy as np\n",
    "dataset = sw_class2\n",
    "dataset=dataset.replace({'mass':{'1,358':1358}})\n",
    "# Define which columns should be encoded vs scaled\n",
    "columns_to_encode = ['eye_color','skin_color','classification']\n",
    "columns_to_scale  = ['height', 'mass']\n",
    "\n",
    "from sklearn.preprocessing import StandardScaler, OneHotEncoder\n",
    "\n",
    "# Instantiate encoder/scaler\n",
    "scaler = StandardScaler()\n",
    "ohe    = OneHotEncoder(sparse=False)\n",
    "\n",
    "# Scale and Encode Separate Columns\n",
    "scaled_columns  = scaler.fit_transform(dataset[columns_to_scale]) \n",
    "encoded_columns =    ohe.fit_transform(dataset[columns_to_encode])\n",
    "\n",
    "# Concatenate (Column-Bind) Processed Columns Back Together\n",
    "processed_data = np.concatenate([scaled_columns, encoded_columns], axis=1)\n",
    "print(processed_data)\n",
    "\n",
    "yf=sw_class2['species_name'].factorize()[0]"
   ]
  },
  {
   "cell_type": "markdown",
   "metadata": {},
   "source": [
    "Then separate in Train and Test sets"
   ]
  },
  {
   "cell_type": "code",
   "execution_count": 23,
   "metadata": {},
   "outputs": [
    {
     "name": "stdout",
     "output_type": "stream",
     "text": [
      "Train set: (40, 43) (40,)\n",
      "Test set: (11, 43) (11,)\n"
     ]
    }
   ],
   "source": [
    "X=processed_data\n",
    "\n",
    "from sklearn.model_selection import train_test_split\n",
    "X_train, X_test, y_train, y_test = train_test_split( X, yf, test_size=0.2, random_state=4)\n",
    "print ('Train set:', X_train.shape,  y_train.shape)\n",
    "print ('Test set:', X_test.shape,  y_test.shape)"
   ]
  },
  {
   "cell_type": "markdown",
   "metadata": {},
   "source": [
    "Then apply Knn nearest neighbors algorithm"
   ]
  },
  {
   "cell_type": "code",
   "execution_count": 24,
   "metadata": {},
   "outputs": [
    {
     "name": "stdout",
     "output_type": "stream",
     "text": [
      "Train set Accuracy:  0.625\n",
      "Test set Accuracy:  0.5454545454545454\n"
     ]
    }
   ],
   "source": [
    "from sklearn.neighbors import KNeighborsClassifier\n",
    "k = 3\n",
    "#Train Model and Predict  \n",
    "neigh = KNeighborsClassifier(n_neighbors = k).fit(X_train,y_train)\n",
    "neigh\n",
    "yhat = neigh.predict(X_test)\n",
    "yhat[0:5]\n",
    "from sklearn import metrics\n",
    "print(\"Train set Accuracy: \", metrics.accuracy_score(y_train, neigh.predict(X_train)))\n",
    "print(\"Test set Accuracy: \", metrics.accuracy_score(y_test, yhat))"
   ]
  },
  {
   "cell_type": "markdown",
   "metadata": {},
   "source": [
    "Depending on the random state e get different values of accuracy"
   ]
  },
  {
   "cell_type": "markdown",
   "metadata": {},
   "source": [
    "Finally we eploy the random forest algorithm"
   ]
  },
  {
   "cell_type": "code",
   "execution_count": 25,
   "metadata": {},
   "outputs": [
    {
     "data": {
      "text/plain": [
       "0.36363636363636365"
      ]
     },
     "execution_count": 25,
     "metadata": {},
     "output_type": "execute_result"
    }
   ],
   "source": [
    "from sklearn.metrics import accuracy_score\n",
    "\n",
    "from sklearn.ensemble import RandomForestClassifier\n",
    "\n",
    "# train model\n",
    "rfc = RandomForestClassifier(n_estimators=10).fit(X_train, y_train)\n",
    "\n",
    "# predict on test set\n",
    "rfc_pred = rfc.predict(X_test)\n",
    "\n",
    "accuracy_score(y_test, rfc_pred)\n"
   ]
  },
  {
   "cell_type": "code",
   "execution_count": null,
   "metadata": {},
   "outputs": [],
   "source": []
  }
 ],
 "metadata": {
  "kernelspec": {
   "display_name": "Python 3",
   "language": "python",
   "name": "python3"
  },
  "language_info": {
   "codemirror_mode": {
    "name": "ipython",
    "version": 3
   },
   "file_extension": ".py",
   "mimetype": "text/x-python",
   "name": "python",
   "nbconvert_exporter": "python",
   "pygments_lexer": "ipython3",
   "version": "3.6.7"
  }
 },
 "nbformat": 4,
 "nbformat_minor": 2
}
